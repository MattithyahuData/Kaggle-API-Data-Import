{
 "cells": [
  {
   "cell_type": "markdown",
   "metadata": {},
   "source": [
    "### **Importing data through the Kaggle API**  "
   ]
  },
  {
   "cell_type": "markdown",
   "metadata": {},
   "source": [
    "* What is an API?\n",
    "    * An Application Programming Interface is a software intermediary that allows 2 applications to talk to eachother so that they can share data sets.  \n",
    "    <br>\n",
    "* Why use an API in Data Science ?\n",
    "    * You can deal with very big data sets that can be 2GB, 5GB, and even be more than 50GB! Downloading datasets this size file would be processed alot slower by a computer than an API transfer.\n",
    "    <br><br>\n",
    "    * Benefits of using an API: \n",
    "        * You dont need to \"download\" a static file, APIs allow for real time changing data and periodic downloads arent required like CSVs. \n",
    "        * Secure and efficient with the ability to allow several users to be able to access the data at any one time.\n",
    "    <br><br>\n",
    "\n",
    "    * Drawbacks of using an API:\n",
    "        * Can be costly "
   ]
  },
  {
   "cell_type": "code",
   "execution_count": 13,
   "metadata": {},
   "outputs": [
    {
     "name": "stdout",
     "output_type": "stream",
     "text": [
      "Downloading top-100-us-cities-by-population.zip to c:\\Users\\matti\\OneDrive\\MyProjects\\Projects\\Kaggle API Data Import\n",
      "\n"
     ]
    },
    {
     "name": "stderr",
     "output_type": "stream",
     "text": [
      "\n",
      "  0%|          | 0.00/5.20k [00:00<?, ?B/s]\n",
      "100%|██████████| 5.20k/5.20k [00:00<00:00, 1.33MB/s]\n"
     ]
    }
   ],
   "source": [
    "# Importing data through API \n",
    "!kaggle datasets download -d brandonconrady/top-100-us-cities-by-population"
   ]
  },
  {
   "cell_type": "code",
   "execution_count": 14,
   "metadata": {},
   "outputs": [],
   "source": [
    "# Taken from Kaggle API command \n",
    "#!kaggle competitions download -c LANL-Earthquake-Prediction"
   ]
  },
  {
   "cell_type": "code",
   "execution_count": 15,
   "metadata": {},
   "outputs": [
    {
     "name": "stdout",
     "output_type": "stream",
     "text": [
      "The dataset is extracted\n"
     ]
    }
   ],
   "source": [
    "# Extracting the compressed Dataset\n",
    "\n",
    "from zipfile import ZipFile\n",
    "dataset = \"top-100-us-cities-by-population.zip\"\n",
    "# With function to open the file 'r' means to read the file\n",
    "with ZipFile(dataset,'r') as zip:\n",
    "    zip.extractall(path=None, members=None, pwd=None)\n",
    "    print(\"The dataset is extracted\")\n"
   ]
  },
  {
   "cell_type": "code",
   "execution_count": 16,
   "metadata": {},
   "outputs": [
    {
     "data": {
      "text/html": [
       "<div>\n",
       "<style scoped>\n",
       "    .dataframe tbody tr th:only-of-type {\n",
       "        vertical-align: middle;\n",
       "    }\n",
       "\n",
       "    .dataframe tbody tr th {\n",
       "        vertical-align: top;\n",
       "    }\n",
       "\n",
       "    .dataframe thead th {\n",
       "        text-align: right;\n",
       "    }\n",
       "</style>\n",
       "<table border=\"1\" class=\"dataframe\">\n",
       "  <thead>\n",
       "    <tr style=\"text-align: right;\">\n",
       "      <th></th>\n",
       "      <th>rank_2020</th>\n",
       "      <th>city</th>\n",
       "      <th>state</th>\n",
       "      <th>largest_city_in_state</th>\n",
       "      <th>state_capital</th>\n",
       "      <th>federal_capital</th>\n",
       "      <th>population_2020</th>\n",
       "      <th>population_2010</th>\n",
       "      <th>absolute_change</th>\n",
       "      <th>percent_change</th>\n",
       "      <th>land_area_sqmi</th>\n",
       "      <th>land_area_sqkm</th>\n",
       "      <th>pop_density_2020_sqmi</th>\n",
       "      <th>pop_density_sqkm</th>\n",
       "      <th>latitude</th>\n",
       "      <th>longitude</th>\n",
       "    </tr>\n",
       "  </thead>\n",
       "  <tbody>\n",
       "    <tr>\n",
       "      <th>0</th>\n",
       "      <td>1</td>\n",
       "      <td>New York</td>\n",
       "      <td>New York</td>\n",
       "      <td>True</td>\n",
       "      <td>False</td>\n",
       "      <td>False</td>\n",
       "      <td>8804190</td>\n",
       "      <td>8175133</td>\n",
       "      <td>629057</td>\n",
       "      <td>7.69</td>\n",
       "      <td>300.5</td>\n",
       "      <td>778.3</td>\n",
       "      <td>29298</td>\n",
       "      <td>11312</td>\n",
       "      <td>40°40′N</td>\n",
       "      <td>73°56′W</td>\n",
       "    </tr>\n",
       "    <tr>\n",
       "      <th>1</th>\n",
       "      <td>2</td>\n",
       "      <td>Los Angeles</td>\n",
       "      <td>California</td>\n",
       "      <td>True</td>\n",
       "      <td>False</td>\n",
       "      <td>False</td>\n",
       "      <td>3898747</td>\n",
       "      <td>3792621</td>\n",
       "      <td>106126</td>\n",
       "      <td>2.80</td>\n",
       "      <td>469.5</td>\n",
       "      <td>1216.0</td>\n",
       "      <td>8304</td>\n",
       "      <td>3206</td>\n",
       "      <td>34°01′N</td>\n",
       "      <td>118°25′W</td>\n",
       "    </tr>\n",
       "    <tr>\n",
       "      <th>2</th>\n",
       "      <td>3</td>\n",
       "      <td>Chicago</td>\n",
       "      <td>Illinois</td>\n",
       "      <td>True</td>\n",
       "      <td>False</td>\n",
       "      <td>False</td>\n",
       "      <td>2746388</td>\n",
       "      <td>2695598</td>\n",
       "      <td>50790</td>\n",
       "      <td>1.88</td>\n",
       "      <td>227.7</td>\n",
       "      <td>589.7</td>\n",
       "      <td>12061</td>\n",
       "      <td>4657</td>\n",
       "      <td>41°50′N</td>\n",
       "      <td>87°41′W</td>\n",
       "    </tr>\n",
       "    <tr>\n",
       "      <th>3</th>\n",
       "      <td>4</td>\n",
       "      <td>Houston</td>\n",
       "      <td>Texas</td>\n",
       "      <td>True</td>\n",
       "      <td>False</td>\n",
       "      <td>False</td>\n",
       "      <td>2304580</td>\n",
       "      <td>2099451</td>\n",
       "      <td>205129</td>\n",
       "      <td>9.77</td>\n",
       "      <td>640.4</td>\n",
       "      <td>1658.6</td>\n",
       "      <td>3599</td>\n",
       "      <td>1390</td>\n",
       "      <td>29°47′N</td>\n",
       "      <td>95°23′W</td>\n",
       "    </tr>\n",
       "    <tr>\n",
       "      <th>4</th>\n",
       "      <td>5</td>\n",
       "      <td>Phoenix</td>\n",
       "      <td>Arizona</td>\n",
       "      <td>True</td>\n",
       "      <td>True</td>\n",
       "      <td>False</td>\n",
       "      <td>1608139</td>\n",
       "      <td>1445632</td>\n",
       "      <td>162507</td>\n",
       "      <td>11.24</td>\n",
       "      <td>518.0</td>\n",
       "      <td>1341.6</td>\n",
       "      <td>3105</td>\n",
       "      <td>1199</td>\n",
       "      <td>33°34′N</td>\n",
       "      <td>112°05′W</td>\n",
       "    </tr>\n",
       "  </tbody>\n",
       "</table>\n",
       "</div>"
      ],
      "text/plain": [
       "   rank_2020         city       state  largest_city_in_state  state_capital  \\\n",
       "0          1     New York    New York                   True          False   \n",
       "1          2  Los Angeles  California                   True          False   \n",
       "2          3      Chicago    Illinois                   True          False   \n",
       "3          4      Houston       Texas                   True          False   \n",
       "4          5      Phoenix     Arizona                   True           True   \n",
       "\n",
       "   federal_capital  population_2020  population_2010  absolute_change  \\\n",
       "0            False          8804190          8175133           629057   \n",
       "1            False          3898747          3792621           106126   \n",
       "2            False          2746388          2695598            50790   \n",
       "3            False          2304580          2099451           205129   \n",
       "4            False          1608139          1445632           162507   \n",
       "\n",
       "   percent_change land_area_sqmi land_area_sqkm pop_density_2020_sqmi  \\\n",
       "0            7.69        300.5           778.3                 29298    \n",
       "1            2.80        469.5          1216.0                  8304    \n",
       "2            1.88        227.7           589.7                 12061    \n",
       "3            9.77        640.4          1658.6                  3599    \n",
       "4           11.24        518.0          1341.6                  3105    \n",
       "\n",
       "   pop_density_sqkm latitude longitude  \n",
       "0             11312  40°40′N   73°56′W  \n",
       "1              3206  34°01′N  118°25′W  \n",
       "2              4657  41°50′N   87°41′W  \n",
       "3              1390  29°47′N   95°23′W  \n",
       "4              1199  33°34′N  112°05′W  "
      ]
     },
     "execution_count": 16,
     "metadata": {},
     "output_type": "execute_result"
    }
   ],
   "source": [
    "import pandas as pd\n",
    "\n",
    "data = pd.read_csv('top100cities (3).csv')\n",
    "data.head()"
   ]
  }
 ],
 "metadata": {
  "interpreter": {
   "hash": "b3ba2566441a7c06988d0923437866b63cedc61552a5af99d1f4fb67d367b25f"
  },
  "kernelspec": {
   "display_name": "Python 3.8.8 64-bit ('base': conda)",
   "language": "python",
   "name": "python3"
  },
  "language_info": {
   "codemirror_mode": {
    "name": "ipython",
    "version": 3
   },
   "file_extension": ".py",
   "mimetype": "text/x-python",
   "name": "python",
   "nbconvert_exporter": "python",
   "pygments_lexer": "ipython3",
   "version": "3.8.12"
  },
  "orig_nbformat": 4
 },
 "nbformat": 4,
 "nbformat_minor": 2
}
